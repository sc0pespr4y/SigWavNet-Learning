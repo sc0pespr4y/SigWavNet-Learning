{
 "cells": [
  {
   "cell_type": "code",
   "execution_count": 1,
   "id": "2cba627e-c6ee-479c-8c05-76ea5fd146de",
   "metadata": {},
   "outputs": [
    {
     "name": "stdout",
     "output_type": "stream",
     "text": [
      "                                               path  source    label\n",
      "0  /workspaces/SigWavNet-Learning/EmoDB/13a02Ec.wav  EMO-DB  disgust\n",
      "1  /workspaces/SigWavNet-Learning/EmoDB/16a07Lb.wav  EMO-DB  boredom\n",
      "2  /workspaces/SigWavNet-Learning/EmoDB/15a02Ea.wav  EMO-DB  disgust\n",
      "3  /workspaces/SigWavNet-Learning/EmoDB/08a04La.wav  EMO-DB  boredom\n",
      "4  /workspaces/SigWavNet-Learning/EmoDB/09b09Ea.wav  EMO-DB  disgust\n"
     ]
    }
   ],
   "source": [
    "#!/usr/bin/env python3\n",
    "# -*- coding: utf-8 -*-\n",
    "\n",
    "\"\"\"\n",
    "Title: Dataset Preparation for Speech Emotion Recognition (SigWavNet) - Emo-DB\n",
    "Author: Somil Bisht (adapted from Alaa Nfissi)\n",
    "Date: June 25, 2025\n",
    "Description: Prepares the Berlin Emotional Speech Database (Emo-DB) for SER model training.\n",
    "\"\"\"\n",
    "\n",
    "import os\n",
    "import pandas as pd\n",
    "\n",
    "# Define the path to the Emo-DB dataset (update this accordingly)\n",
    "emodb_data_path = \"/workspaces/SigWavNet-Learning/EmoDB\"  # e.g., \"./emodb/\"\n",
    "\n",
    "EMODB_path = os.path.abspath(emodb_data_path)\n",
    "\n",
    "# Map emotion codes to full names\n",
    "emotion_map = {\n",
    "    'W': 'angry',\n",
    "    'L': 'boredom',\n",
    "    'E': 'disgust',\n",
    "    'A': 'fear',\n",
    "    'F': 'happy',\n",
    "    'T': 'sad',\n",
    "    'N': 'neutral'\n",
    "}\n",
    "\n",
    "# List all .wav files\n",
    "audio_files = [os.path.join(EMODB_path, f) for f in os.listdir(EMODB_path) if f.endswith('.wav')]\n",
    "\n",
    "# Parse emotion from filename\n",
    "records = []\n",
    "for file_path in audio_files:\n",
    "    filename = os.path.basename(file_path)\n",
    "    emotion_code = filename[5]  # 6th character in filename\n",
    "    if emotion_code in emotion_map:\n",
    "        records.append({\n",
    "            'path': file_path,\n",
    "            'source': 'EMO-DB',\n",
    "            'label': emotion_map[emotion_code]\n",
    "        })\n",
    "\n",
    "# Create DataFrame and export to CSV\n",
    "emodb_df = pd.DataFrame(records)\n",
    "emodb_df.to_csv('EMO_DB_dataset.csv', index=False)\n",
    "print(emodb_df.head())\n"
   ]
  }
 ],
 "metadata": {
  "kernelspec": {
   "display_name": "Python 3",
   "language": "python",
   "name": "python3"
  },
  "language_info": {
   "codemirror_mode": {
    "name": "ipython",
    "version": 3
   },
   "file_extension": ".py",
   "mimetype": "text/x-python",
   "name": "python",
   "nbconvert_exporter": "python",
   "pygments_lexer": "ipython3",
   "version": "3.12.1"
  }
 },
 "nbformat": 4,
 "nbformat_minor": 5
}
